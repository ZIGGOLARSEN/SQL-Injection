{
 "cells": [
  {
   "cell_type": "code",
   "execution_count": 47,
   "metadata": {},
   "outputs": [],
   "source": [
    "import time\n",
    "import queue\n",
    "import requests\n",
    "import threading\n",
    "import multiprocessing\n",
    "import concurrent.futures"
   ]
  },
  {
   "cell_type": "code",
   "execution_count": 29,
   "metadata": {},
   "outputs": [],
   "source": [
    "def send_request(url):\n",
    "    response = requests.get(url)\n",
    "    return response.text"
   ]
  },
  {
   "cell_type": "code",
   "execution_count": 54,
   "metadata": {},
   "outputs": [
    {
     "name": "stdout",
     "output_type": "stream",
     "text": [
      "Request 4 status code: 200\n",
      "Request 3 status code: 200\n",
      "Request 0 status code: 200\n",
      "Request 2 status code: 200\n",
      "Request 1 status code: 200\n",
      "Request 0 status code: 200\n",
      "Request 1 status code: 200\n",
      "Request 3 status code: 200\n",
      "Request 4 status code: 200\n",
      "Request 2 status code: 200\n"
     ]
    }
   ],
   "source": [
    "# Define the URL of the website you want to send requests to\n",
    "url = \"https://youtube.com\"\n",
    "\n",
    "# Define the number of parallel requests you want to send\n",
    "num_requests = 5\n",
    "\n",
    "# Function to send a GET request to the URL\n",
    "def send_request(request_num):\n",
    "    response = requests.get(url)\n",
    "    return f\"Request {request_num} status code: {response.status_code}\"\n",
    "\n",
    "# Create a ThreadPoolExecutor with the desired number of threads\n",
    "with concurrent.futures.ThreadPoolExecutor(max_workers=num_requests) as executor:\n",
    "    # Submit the tasks\n",
    "    futures = [executor.submit(send_request, i) for j in range(10 // num_requests) for i in range(num_requests)]\n",
    "\n",
    "    # Gather the results as they complete\n",
    "    for future in concurrent.futures.as_completed(futures):\n",
    "        result = future.result()\n",
    "        print(result)"
   ]
  }
 ],
 "metadata": {
  "kernelspec": {
   "display_name": "Python 3",
   "language": "python",
   "name": "python3"
  },
  "language_info": {
   "codemirror_mode": {
    "name": "ipython",
    "version": 3
   },
   "file_extension": ".py",
   "mimetype": "text/x-python",
   "name": "python",
   "nbconvert_exporter": "python",
   "pygments_lexer": "ipython3",
   "version": "3.9.13"
  },
  "orig_nbformat": 4
 },
 "nbformat": 4,
 "nbformat_minor": 2
}
